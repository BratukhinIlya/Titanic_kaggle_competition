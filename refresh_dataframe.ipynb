{
 "cells": [
  {
   "cell_type": "code",
   "execution_count": 8,
   "id": "1f7aeb51-6069-43bf-8073-2c4347e9e427",
   "metadata": {},
   "outputs": [],
   "source": [
    "import pandas as pd\n",
    "import numpy as np\n",
    "import matplotlib.pyplot as plt\n",
    "import seaborn as sns\n",
    "from tqdm import tqdm"
   ]
  },
  {
   "cell_type": "code",
   "execution_count": 9,
   "id": "17573e21-1194-4a58-b618-9caa137cf540",
   "metadata": {},
   "outputs": [
    {
     "data": {
      "text/html": [
       "<div>\n",
       "<style scoped>\n",
       "    .dataframe tbody tr th:only-of-type {\n",
       "        vertical-align: middle;\n",
       "    }\n",
       "\n",
       "    .dataframe tbody tr th {\n",
       "        vertical-align: top;\n",
       "    }\n",
       "\n",
       "    .dataframe thead th {\n",
       "        text-align: right;\n",
       "    }\n",
       "</style>\n",
       "<table border=\"1\" class=\"dataframe\">\n",
       "  <thead>\n",
       "    <tr style=\"text-align: right;\">\n",
       "      <th></th>\n",
       "      <th>Survived</th>\n",
       "      <th>Pclass</th>\n",
       "      <th>Name</th>\n",
       "      <th>Sex</th>\n",
       "      <th>Age</th>\n",
       "      <th>SibSp</th>\n",
       "      <th>Parch</th>\n",
       "      <th>Ticket</th>\n",
       "      <th>Fare</th>\n",
       "      <th>Cabin</th>\n",
       "      <th>Embarked</th>\n",
       "    </tr>\n",
       "    <tr>\n",
       "      <th>PassengerId</th>\n",
       "      <th></th>\n",
       "      <th></th>\n",
       "      <th></th>\n",
       "      <th></th>\n",
       "      <th></th>\n",
       "      <th></th>\n",
       "      <th></th>\n",
       "      <th></th>\n",
       "      <th></th>\n",
       "      <th></th>\n",
       "      <th></th>\n",
       "    </tr>\n",
       "  </thead>\n",
       "  <tbody>\n",
       "    <tr>\n",
       "      <th>1</th>\n",
       "      <td>0.0</td>\n",
       "      <td>3</td>\n",
       "      <td>Braund, Mr. Owen Harris</td>\n",
       "      <td>male</td>\n",
       "      <td>22.0</td>\n",
       "      <td>1</td>\n",
       "      <td>0</td>\n",
       "      <td>A/5 21171</td>\n",
       "      <td>7.2500</td>\n",
       "      <td>NaN</td>\n",
       "      <td>S</td>\n",
       "    </tr>\n",
       "    <tr>\n",
       "      <th>2</th>\n",
       "      <td>1.0</td>\n",
       "      <td>1</td>\n",
       "      <td>Cumings, Mrs. John Bradley (Florence Briggs Th...</td>\n",
       "      <td>female</td>\n",
       "      <td>38.0</td>\n",
       "      <td>1</td>\n",
       "      <td>0</td>\n",
       "      <td>PC 17599</td>\n",
       "      <td>71.2833</td>\n",
       "      <td>C85</td>\n",
       "      <td>C</td>\n",
       "    </tr>\n",
       "    <tr>\n",
       "      <th>3</th>\n",
       "      <td>1.0</td>\n",
       "      <td>3</td>\n",
       "      <td>Heikkinen, Miss. Laina</td>\n",
       "      <td>female</td>\n",
       "      <td>26.0</td>\n",
       "      <td>0</td>\n",
       "      <td>0</td>\n",
       "      <td>STON/O2. 3101282</td>\n",
       "      <td>7.9250</td>\n",
       "      <td>NaN</td>\n",
       "      <td>S</td>\n",
       "    </tr>\n",
       "    <tr>\n",
       "      <th>4</th>\n",
       "      <td>1.0</td>\n",
       "      <td>1</td>\n",
       "      <td>Futrelle, Mrs. Jacques Heath (Lily May Peel)</td>\n",
       "      <td>female</td>\n",
       "      <td>35.0</td>\n",
       "      <td>1</td>\n",
       "      <td>0</td>\n",
       "      <td>113803</td>\n",
       "      <td>53.1000</td>\n",
       "      <td>C123</td>\n",
       "      <td>S</td>\n",
       "    </tr>\n",
       "    <tr>\n",
       "      <th>5</th>\n",
       "      <td>0.0</td>\n",
       "      <td>3</td>\n",
       "      <td>Allen, Mr. William Henry</td>\n",
       "      <td>male</td>\n",
       "      <td>35.0</td>\n",
       "      <td>0</td>\n",
       "      <td>0</td>\n",
       "      <td>373450</td>\n",
       "      <td>8.0500</td>\n",
       "      <td>NaN</td>\n",
       "      <td>S</td>\n",
       "    </tr>\n",
       "  </tbody>\n",
       "</table>\n",
       "</div>"
      ],
      "text/plain": [
       "             Survived  Pclass  \\\n",
       "PassengerId                     \n",
       "1                 0.0       3   \n",
       "2                 1.0       1   \n",
       "3                 1.0       3   \n",
       "4                 1.0       1   \n",
       "5                 0.0       3   \n",
       "\n",
       "                                                          Name     Sex   Age  \\\n",
       "PassengerId                                                                    \n",
       "1                                      Braund, Mr. Owen Harris    male  22.0   \n",
       "2            Cumings, Mrs. John Bradley (Florence Briggs Th...  female  38.0   \n",
       "3                                       Heikkinen, Miss. Laina  female  26.0   \n",
       "4                 Futrelle, Mrs. Jacques Heath (Lily May Peel)  female  35.0   \n",
       "5                                     Allen, Mr. William Henry    male  35.0   \n",
       "\n",
       "             SibSp  Parch            Ticket     Fare Cabin Embarked  \n",
       "PassengerId                                                          \n",
       "1                1      0         A/5 21171   7.2500   NaN        S  \n",
       "2                1      0          PC 17599  71.2833   C85        C  \n",
       "3                0      0  STON/O2. 3101282   7.9250   NaN        S  \n",
       "4                1      0            113803  53.1000  C123        S  \n",
       "5                0      0            373450   8.0500   NaN        S  "
      ]
     },
     "execution_count": 9,
     "metadata": {},
     "output_type": "execute_result"
    }
   ],
   "source": [
    "test_df = pd.read_csv('test.csv')\n",
    "train_df = pd.read_csv('train.csv')\n",
    "test_train = pd.concat([train_df, test_df])\n",
    "test_train.set_index('PassengerId', inplace=True)\n",
    "test_train.head()"
   ]
  },
  {
   "cell_type": "code",
   "execution_count": 10,
   "id": "2b754cbb-dbfc-4e1c-99a3-fbdfd6440a00",
   "metadata": {},
   "outputs": [
    {
     "name": "stdout",
     "output_type": "stream",
     "text": [
      "<class 'pandas.core.frame.DataFrame'>\n",
      "Index: 1309 entries, 1 to 1309\n",
      "Data columns (total 11 columns):\n",
      " #   Column    Non-Null Count  Dtype  \n",
      "---  ------    --------------  -----  \n",
      " 0   Survived  891 non-null    float64\n",
      " 1   Pclass    1309 non-null   int64  \n",
      " 2   Name      1309 non-null   object \n",
      " 3   Sex       1309 non-null   object \n",
      " 4   Age       1046 non-null   float64\n",
      " 5   SibSp     1309 non-null   int64  \n",
      " 6   Parch     1309 non-null   int64  \n",
      " 7   Ticket    1309 non-null   object \n",
      " 8   Fare      1308 non-null   float64\n",
      " 9   Cabin     295 non-null    object \n",
      " 10  Embarked  1307 non-null   object \n",
      "dtypes: float64(3), int64(3), object(5)\n",
      "memory usage: 122.7+ KB\n"
     ]
    }
   ],
   "source": [
    "test_train.info()"
   ]
  },
  {
   "cell_type": "markdown",
   "id": "63aaf8ae-8a1b-4221-a28c-cf455df7b788",
   "metadata": {},
   "source": [
    "Признак **Cabin** можем сходу удалить, так как в нем больше 45% пропусков. В остальных колонка пропусков не так много, поэтому можно продолжать с ними работать"
   ]
  },
  {
   "cell_type": "code",
   "execution_count": 12,
   "id": "b89f0bbb-636b-4b24-8781-583d966e79f5",
   "metadata": {},
   "outputs": [],
   "source": [
    "test_train.drop(['Cabin', 'Name'], inplace=True, axis=1)"
   ]
  },
  {
   "cell_type": "code",
   "execution_count": 13,
   "id": "d5319fd3-cf5e-4e88-a2fb-82265ab0c879",
   "metadata": {},
   "outputs": [
    {
     "data": {
      "text/plain": [
       "['Ticket']"
      ]
     },
     "execution_count": 13,
     "metadata": {},
     "output_type": "execute_result"
    }
   ],
   "source": [
    "all_columns = list(test_train.columns)\n",
    "cat_columns = [col for col in all_columns if test_train[col].dtype == 'object']\n",
    "int_float_columns = [col for col in all_columns if test_train[col].dtype == 'int' or test_train[col].dtype == 'float']\n",
    "small_cat_columns = [col for col in cat_columns if test_train[col].nunique() < 4]\n",
    "big_cat_columns = [col for col in cat_columns if test_train[col].nunique() > 3]\n",
    "big_cat_columns"
   ]
  },
  {
   "cell_type": "code",
   "execution_count": 14,
   "id": "36bbd5ab-09c2-4f59-b560-1ecdf2c53e6a",
   "metadata": {},
   "outputs": [
    {
     "data": {
      "text/plain": [
       "True"
      ]
     },
     "execution_count": 14,
     "metadata": {},
     "output_type": "execute_result"
    }
   ],
   "source": [
    "len(big_cat_columns) + len(small_cat_columns) + len(int_float_columns) == test_train.shape[1]"
   ]
  },
  {
   "cell_type": "markdown",
   "id": "3134d388-a5be-48f7-8aca-7bd8d2405b17",
   "metadata": {},
   "source": [
    "Складываем размерности наших колонок и размерность таблиц. Вывело True - значит все верно"
   ]
  },
  {
   "cell_type": "code",
   "execution_count": 16,
   "id": "020d334c-a8c3-4f27-aa18-f9534cc60fa7",
   "metadata": {},
   "outputs": [],
   "source": [
    "def part_of_distr(df, col):\n",
    "    new_df = df.groupby(col).agg({col: 'count'})\n",
    "    new_df['Part'] = new_df[col] / len(df)\n",
    "    print(new_df)\n",
    "    print()\n",
    "    sns.countplot(x=df[col], data=df, palette='viridis', hue=col, legend=False)\n",
    "    plt.show()"
   ]
  },
  {
   "cell_type": "code",
   "execution_count": 17,
   "id": "e1ca3add-42c4-4ac9-97c8-7650f0cc7922",
   "metadata": {},
   "outputs": [
    {
     "name": "stdout",
     "output_type": "stream",
     "text": [
      "        Sex      Part\n",
      "Sex                  \n",
      "female  466  0.355997\n",
      "male    843  0.644003\n",
      "\n"
     ]
    },
    {
     "data": {
      "image/png": "[encoded data removed]",
      "text/plain": [
       "<Figure size 640x480 with 1 Axes>"
      ]
     },
     "metadata": {},
     "output_type": "display_data"
    },
    {
     "name": "stdout",
     "output_type": "stream",
     "text": [
      "             Ticket      Part\n",
      "Ticket                       \n",
      "110152            3  0.002292\n",
      "110413            3  0.002292\n",
      "110465            2  0.001528\n",
      "110469            1  0.000764\n",
      "110489            1  0.000764\n",
      "...             ...       ...\n",
      "W./C. 6608        5  0.003820\n",
      "W./C. 6609        1  0.000764\n",
      "W.E.P. 5734       2  0.001528\n",
      "W/C 14208         1  0.000764\n",
      "WE/P 5735         2  0.001528\n",
      "\n",
      "[929 rows x 2 columns]\n",
      "\n"
     ]
    },
    {
     "data": {
      "image/png": "[encoded data removed]",
      "text/plain": [
       "<Figure size 640x480 with 1 Axes>"
      ]
     },
     "metadata": {},
     "output_type": "display_data"
    },
    {
     "name": "stdout",
     "output_type": "stream",
     "text": [
      "          Embarked      Part\n",
      "Embarked                    \n",
      "C              270  0.206264\n",
      "Q              123  0.093965\n",
      "S              914  0.698243\n",
      "\n"
     ]
    },
    {
     "data": {
      "image/png": "[encoded data removed]",
      "text/plain": [
       "<Figure size 640x480 with 1 Axes>"
      ]
     },
     "metadata": {},
     "output_type": "display_data"
    }
   ],
   "source": [
    "for col in cat_columns:\n",
    "    part_of_distr(test_train, col)"
   ]
  },
  {
   "cell_type": "markdown",
   "id": "6cf469e7-9500-4e45-9f6a-f2a22178ecd7",
   "metadata": {},
   "source": [
    "В целом, если будем смотреть на **распределение данных**, то у нас нет **аномальных данных**, но в стобце **Ticket** слишком много уникальных значений, поэтому в дальнейшем удалим этот призйнак, иначе рискуем **получить переобучение**\n",
    "\n",
    "Теперь посчитаем корреляцию по вещественным переменным"
   ]
  },
  {
   "cell_type": "code",
   "execution_count": 19,
   "id": "b61a20dd-ac5f-42b8-9756-171dc607cb84",
   "metadata": {},
   "outputs": [
    {
     "data": {
      "text/plain": [
       "Pclass     -0.338481\n",
       "Age        -0.077221\n",
       "SibSp      -0.035322\n",
       "Parch       0.081629\n",
       "Fare        0.257307\n",
       "Survived    1.000000\n",
       "Name: Survived, dtype: float64"
      ]
     },
     "execution_count": 19,
     "metadata": {},
     "output_type": "execute_result"
    }
   ],
   "source": [
    "(test_train[int_float_columns].corr())['Survived'].sort_values()"
   ]
  },
  {
   "cell_type": "markdown",
   "id": "f33f9629-6eb6-444b-b9b9-fcd0106c8cb3",
   "metadata": {},
   "source": [
    "Даже для **решающего дерева** мы тоже должны считать **корреляцию**. Уберем колонки где корреляция по модуля ниже или равно **0.05**\n",
    "\n",
    "Это только **один** признак - `SibSp`"
   ]
  },
  {
   "cell_type": "code",
   "execution_count": 21,
   "id": "304997e8-6b41-4b30-b3ac-1711d4e63e76",
   "metadata": {},
   "outputs": [],
   "source": [
    "test_train.drop('SibSp', axis=1, inplace=True)"
   ]
  },
  {
   "cell_type": "code",
   "execution_count": 22,
   "id": "c1f1700d-caba-40b8-b328-40234d780936",
   "metadata": {},
   "outputs": [],
   "source": [
    "del int_float_columns[int_float_columns.index('SibSp')]"
   ]
  },
  {
   "cell_type": "markdown",
   "id": "68040c68-9089-4f00-b73e-45c4156cef29",
   "metadata": {},
   "source": [
    "Теперь посчитаем процент пропусков в категориальных колонках. где будет больше 45% - будем удалять"
   ]
  },
  {
   "cell_type": "code",
   "execution_count": 24,
   "id": "1a874cfb-3c45-4176-a7f7-125503a679ac",
   "metadata": {},
   "outputs": [
    {
     "data": {
      "text/plain": [
       "Sex         0.000000\n",
       "Ticket      0.000000\n",
       "Embarked    0.001528\n",
       "dtype: float64"
      ]
     },
     "execution_count": 24,
     "metadata": {},
     "output_type": "execute_result"
    }
   ],
   "source": [
    "(test_train[cat_columns].isnull().sum()) / len(test_train)"
   ]
  },
  {
   "cell_type": "markdown",
   "id": "ac455a15-b975-4c4b-89c3-fccec70b48b4",
   "metadata": {},
   "source": [
    "Мы видим, что у нас нет колонки, где было бы больше **45% пропусков** (изначально была **одна** такая - но мы ее уже удалили). \n",
    "\n",
    "Ну и заполним пропуски в признаке `Embarked` **модой** - самым популярным значением"
   ]
  },
  {
   "cell_type": "code",
   "execution_count": 26,
   "id": "923da88b-7147-4179-80dd-c477c9651521",
   "metadata": {},
   "outputs": [
    {
     "data": {
      "text/plain": [
       "Sex         0.0\n",
       "Ticket      0.0\n",
       "Embarked    0.0\n",
       "dtype: float64"
      ]
     },
     "execution_count": 26,
     "metadata": {},
     "output_type": "execute_result"
    }
   ],
   "source": [
    "test_train['Embarked'] = test_train['Embarked'].fillna(test_train['Embarked'].value_counts().index[0])\n",
    "(test_train[cat_columns].isnull().sum()) / len(test_train)"
   ]
  },
  {
   "cell_type": "markdown",
   "id": "607ca886-e05e-448a-9647-b2d073baac9d",
   "metadata": {},
   "source": [
    "Теперь у нас **нет** пропусков в **категориальных колонках**\n",
    "\n",
    "Проверим **пропуски** в вещественных колонках. И заполним **средним** значением по нашей выборке"
   ]
  },
  {
   "cell_type": "code",
   "execution_count": 28,
   "id": "4433c50f-1775-484a-beba-2bd94ee8477a",
   "metadata": {},
   "outputs": [
    {
     "data": {
      "text/plain": [
       "Survived    0.319328\n",
       "Pclass      0.000000\n",
       "Age         0.200917\n",
       "Parch       0.000000\n",
       "Fare        0.000764\n",
       "dtype: float64"
      ]
     },
     "execution_count": 28,
     "metadata": {},
     "output_type": "execute_result"
    }
   ],
   "source": [
    "(test_train[int_float_columns].isnull().sum()) / len(test_train)"
   ]
  },
  {
   "cell_type": "code",
   "execution_count": 29,
   "id": "c0d8e7f5-be0e-4cd2-9a5c-1801834f8ee7",
   "metadata": {},
   "outputs": [
    {
     "data": {
      "text/plain": [
       "Survived    0.319328\n",
       "Pclass      0.000000\n",
       "Age         0.000000\n",
       "Parch       0.000000\n",
       "Fare        0.000000\n",
       "dtype: float64"
      ]
     },
     "execution_count": 29,
     "metadata": {},
     "output_type": "execute_result"
    }
   ],
   "source": [
    "for col in int_float_columns:\n",
    "    if (test_train[col].isnull().sum()) / len(test_train) != 0 and col != 'Survived':\n",
    "        test_train[col] = test_train[col].fillna(test_train[col].mean())\n",
    "(test_train[int_float_columns].isnull().sum()) / len(test_train)"
   ]
  },
  {
   "cell_type": "markdown",
   "id": "3895fcee-e967-4ee5-9166-b5b0c04bbebd",
   "metadata": {},
   "source": [
    "Отлично, теперь у нас нет пропусков и в вещественных колонках (кроме признака `Survived`, но там и должны быть, ведь это тестовые данные)\n",
    "\n",
    "Теперь перейдем к кодировке. Перед эти уберем еще колонку с билетами, так как в ней слишком много уникальных значений.\n",
    "\n",
    "Будес использовать one-hot-encoding для колонок, где уникальных значений меньше 3х и Mean target encoding в остальных случая"
   ]
  },
  {
   "cell_type": "code",
   "execution_count": 31,
   "id": "307512b5-e441-4ce1-8d69-e37da1552c0c",
   "metadata": {},
   "outputs": [],
   "source": [
    "test_train_copy = test_train.copy()\n",
    "test_train.drop('Ticket', axis=1, inplace=True)\n",
    "del cat_columns[cat_columns.index('Ticket')]\n",
    "for col in cat_columns:\n",
    "    if test_train[col].nunique() < 4:\n",
    "        one_hot_encoding = pd.get_dummies(test_train_copy[col], prefix=col, drop_first=True, dtype=\"int\")\n",
    "        test_train_copy = pd.concat([test_train_copy, one_hot_encoding], axis=1)\n",
    "        test_train_copy.drop(col, axis=1, inplace=True)\n",
    "    else:\n",
    "        mean_target_encoding = test_train_copy.groupby(col)['Survived'].mean()\n",
    "        test_train_copy[col] = test_train_copy[col].map(mean_target_encoding)"
   ]
  },
  {
   "cell_type": "code",
   "execution_count": 32,
   "id": "307ddc7e-fbe9-481a-9f75-8a3796794066",
   "metadata": {},
   "outputs": [
    {
     "data": {
      "text/html": [
       "<div>\n",
       "<style scoped>\n",
       "    .dataframe tbody tr th:only-of-type {\n",
       "        vertical-align: middle;\n",
       "    }\n",
       "\n",
       "    .dataframe tbody tr th {\n",
       "        vertical-align: top;\n",
       "    }\n",
       "\n",
       "    .dataframe thead th {\n",
       "        text-align: right;\n",
       "    }\n",
       "</style>\n",
       "<table border=\"1\" class=\"dataframe\">\n",
       "  <thead>\n",
       "    <tr style=\"text-align: right;\">\n",
       "      <th></th>\n",
       "      <th>Survived</th>\n",
       "      <th>Pclass</th>\n",
       "      <th>Age</th>\n",
       "      <th>Parch</th>\n",
       "      <th>Fare</th>\n",
       "      <th>Sex_male</th>\n",
       "      <th>Embarked_Q</th>\n",
       "      <th>Embarked_S</th>\n",
       "    </tr>\n",
       "    <tr>\n",
       "      <th>PassengerId</th>\n",
       "      <th></th>\n",
       "      <th></th>\n",
       "      <th></th>\n",
       "      <th></th>\n",
       "      <th></th>\n",
       "      <th></th>\n",
       "      <th></th>\n",
       "      <th></th>\n",
       "    </tr>\n",
       "  </thead>\n",
       "  <tbody>\n",
       "    <tr>\n",
       "      <th>1</th>\n",
       "      <td>0.0</td>\n",
       "      <td>3</td>\n",
       "      <td>22.0</td>\n",
       "      <td>0</td>\n",
       "      <td>7.2500</td>\n",
       "      <td>1</td>\n",
       "      <td>0</td>\n",
       "      <td>1</td>\n",
       "    </tr>\n",
       "    <tr>\n",
       "      <th>2</th>\n",
       "      <td>1.0</td>\n",
       "      <td>1</td>\n",
       "      <td>38.0</td>\n",
       "      <td>0</td>\n",
       "      <td>71.2833</td>\n",
       "      <td>0</td>\n",
       "      <td>0</td>\n",
       "      <td>0</td>\n",
       "    </tr>\n",
       "    <tr>\n",
       "      <th>3</th>\n",
       "      <td>1.0</td>\n",
       "      <td>3</td>\n",
       "      <td>26.0</td>\n",
       "      <td>0</td>\n",
       "      <td>7.9250</td>\n",
       "      <td>0</td>\n",
       "      <td>0</td>\n",
       "      <td>1</td>\n",
       "    </tr>\n",
       "    <tr>\n",
       "      <th>4</th>\n",
       "      <td>1.0</td>\n",
       "      <td>1</td>\n",
       "      <td>35.0</td>\n",
       "      <td>0</td>\n",
       "      <td>53.1000</td>\n",
       "      <td>0</td>\n",
       "      <td>0</td>\n",
       "      <td>1</td>\n",
       "    </tr>\n",
       "    <tr>\n",
       "      <th>5</th>\n",
       "      <td>0.0</td>\n",
       "      <td>3</td>\n",
       "      <td>35.0</td>\n",
       "      <td>0</td>\n",
       "      <td>8.0500</td>\n",
       "      <td>1</td>\n",
       "      <td>0</td>\n",
       "      <td>1</td>\n",
       "    </tr>\n",
       "  </tbody>\n",
       "</table>\n",
       "</div>"
      ],
      "text/plain": [
       "             Survived  Pclass   Age  Parch     Fare  Sex_male  Embarked_Q  \\\n",
       "PassengerId                                                                 \n",
       "1                 0.0       3  22.0      0   7.2500         1           0   \n",
       "2                 1.0       1  38.0      0  71.2833         0           0   \n",
       "3                 1.0       3  26.0      0   7.9250         0           0   \n",
       "4                 1.0       1  35.0      0  53.1000         0           0   \n",
       "5                 0.0       3  35.0      0   8.0500         1           0   \n",
       "\n",
       "             Embarked_S  \n",
       "PassengerId              \n",
       "1                     1  \n",
       "2                     0  \n",
       "3                     1  \n",
       "4                     1  \n",
       "5                     1  "
      ]
     },
     "execution_count": 32,
     "metadata": {},
     "output_type": "execute_result"
    }
   ],
   "source": [
    "test_train_copy.drop('Ticket', axis=1, inplace=True)\n",
    "test_train_copy.head()"
   ]
  },
  {
   "cell_type": "code",
   "execution_count": 33,
   "id": "c423de1e-bc13-46c1-aed3-09d0b12c343a",
   "metadata": {},
   "outputs": [
    {
     "data": {
      "text/html": [
       "<div>\n",
       "<style scoped>\n",
       "    .dataframe tbody tr th:only-of-type {\n",
       "        vertical-align: middle;\n",
       "    }\n",
       "\n",
       "    .dataframe tbody tr th {\n",
       "        vertical-align: top;\n",
       "    }\n",
       "\n",
       "    .dataframe thead th {\n",
       "        text-align: right;\n",
       "    }\n",
       "</style>\n",
       "<table border=\"1\" class=\"dataframe\">\n",
       "  <thead>\n",
       "    <tr style=\"text-align: right;\">\n",
       "      <th></th>\n",
       "      <th>Survived</th>\n",
       "      <th>Pclass</th>\n",
       "      <th>Age</th>\n",
       "      <th>Parch</th>\n",
       "      <th>Fare</th>\n",
       "      <th>Sex_male</th>\n",
       "      <th>Embarked_Q</th>\n",
       "      <th>Embarked_S</th>\n",
       "    </tr>\n",
       "    <tr>\n",
       "      <th>PassengerId</th>\n",
       "      <th></th>\n",
       "      <th></th>\n",
       "      <th></th>\n",
       "      <th></th>\n",
       "      <th></th>\n",
       "      <th></th>\n",
       "      <th></th>\n",
       "      <th></th>\n",
       "    </tr>\n",
       "  </thead>\n",
       "  <tbody>\n",
       "    <tr>\n",
       "      <th>892</th>\n",
       "      <td>NaN</td>\n",
       "      <td>3</td>\n",
       "      <td>34.5</td>\n",
       "      <td>0</td>\n",
       "      <td>7.8292</td>\n",
       "      <td>1</td>\n",
       "      <td>1</td>\n",
       "      <td>0</td>\n",
       "    </tr>\n",
       "    <tr>\n",
       "      <th>893</th>\n",
       "      <td>NaN</td>\n",
       "      <td>3</td>\n",
       "      <td>47.0</td>\n",
       "      <td>0</td>\n",
       "      <td>7.0000</td>\n",
       "      <td>0</td>\n",
       "      <td>0</td>\n",
       "      <td>1</td>\n",
       "    </tr>\n",
       "    <tr>\n",
       "      <th>894</th>\n",
       "      <td>NaN</td>\n",
       "      <td>2</td>\n",
       "      <td>62.0</td>\n",
       "      <td>0</td>\n",
       "      <td>9.6875</td>\n",
       "      <td>1</td>\n",
       "      <td>1</td>\n",
       "      <td>0</td>\n",
       "    </tr>\n",
       "    <tr>\n",
       "      <th>895</th>\n",
       "      <td>NaN</td>\n",
       "      <td>3</td>\n",
       "      <td>27.0</td>\n",
       "      <td>0</td>\n",
       "      <td>8.6625</td>\n",
       "      <td>1</td>\n",
       "      <td>0</td>\n",
       "      <td>1</td>\n",
       "    </tr>\n",
       "    <tr>\n",
       "      <th>896</th>\n",
       "      <td>NaN</td>\n",
       "      <td>3</td>\n",
       "      <td>22.0</td>\n",
       "      <td>1</td>\n",
       "      <td>12.2875</td>\n",
       "      <td>0</td>\n",
       "      <td>0</td>\n",
       "      <td>1</td>\n",
       "    </tr>\n",
       "  </tbody>\n",
       "</table>\n",
       "</div>"
      ],
      "text/plain": [
       "             Survived  Pclass   Age  Parch     Fare  Sex_male  Embarked_Q  \\\n",
       "PassengerId                                                                 \n",
       "892               NaN       3  34.5      0   7.8292         1           1   \n",
       "893               NaN       3  47.0      0   7.0000         0           0   \n",
       "894               NaN       2  62.0      0   9.6875         1           1   \n",
       "895               NaN       3  27.0      0   8.6625         1           0   \n",
       "896               NaN       3  22.0      1  12.2875         0           0   \n",
       "\n",
       "             Embarked_S  \n",
       "PassengerId              \n",
       "892                   0  \n",
       "893                   1  \n",
       "894                   0  \n",
       "895                   1  \n",
       "896                   1  "
      ]
     },
     "execution_count": 33,
     "metadata": {},
     "output_type": "execute_result"
    }
   ],
   "source": [
    "test_df = test_train_copy[test_train_copy['Survived'].isnull()]\n",
    "train_df = test_train_copy[~test_train_copy['Survived'].isnull()]\n",
    "test_df.head()"
   ]
  },
  {
   "cell_type": "code",
   "execution_count": 34,
   "id": "658ebd7c-5ac4-4824-a9a0-ecc2b1c95816",
   "metadata": {},
   "outputs": [
    {
     "data": {
      "text/html": [
       "<div>\n",
       "<style scoped>\n",
       "    .dataframe tbody tr th:only-of-type {\n",
       "        vertical-align: middle;\n",
       "    }\n",
       "\n",
       "    .dataframe tbody tr th {\n",
       "        vertical-align: top;\n",
       "    }\n",
       "\n",
       "    .dataframe thead th {\n",
       "        text-align: right;\n",
       "    }\n",
       "</style>\n",
       "<table border=\"1\" class=\"dataframe\">\n",
       "  <thead>\n",
       "    <tr style=\"text-align: right;\">\n",
       "      <th></th>\n",
       "      <th>Survived</th>\n",
       "      <th>Pclass</th>\n",
       "      <th>Age</th>\n",
       "      <th>Parch</th>\n",
       "      <th>Fare</th>\n",
       "      <th>Sex_male</th>\n",
       "      <th>Embarked_Q</th>\n",
       "      <th>Embarked_S</th>\n",
       "    </tr>\n",
       "    <tr>\n",
       "      <th>PassengerId</th>\n",
       "      <th></th>\n",
       "      <th></th>\n",
       "      <th></th>\n",
       "      <th></th>\n",
       "      <th></th>\n",
       "      <th></th>\n",
       "      <th></th>\n",
       "      <th></th>\n",
       "    </tr>\n",
       "  </thead>\n",
       "  <tbody>\n",
       "    <tr>\n",
       "      <th>1</th>\n",
       "      <td>0.0</td>\n",
       "      <td>3</td>\n",
       "      <td>22.0</td>\n",
       "      <td>0</td>\n",
       "      <td>7.2500</td>\n",
       "      <td>1</td>\n",
       "      <td>0</td>\n",
       "      <td>1</td>\n",
       "    </tr>\n",
       "    <tr>\n",
       "      <th>2</th>\n",
       "      <td>1.0</td>\n",
       "      <td>1</td>\n",
       "      <td>38.0</td>\n",
       "      <td>0</td>\n",
       "      <td>71.2833</td>\n",
       "      <td>0</td>\n",
       "      <td>0</td>\n",
       "      <td>0</td>\n",
       "    </tr>\n",
       "    <tr>\n",
       "      <th>3</th>\n",
       "      <td>1.0</td>\n",
       "      <td>3</td>\n",
       "      <td>26.0</td>\n",
       "      <td>0</td>\n",
       "      <td>7.9250</td>\n",
       "      <td>0</td>\n",
       "      <td>0</td>\n",
       "      <td>1</td>\n",
       "    </tr>\n",
       "    <tr>\n",
       "      <th>4</th>\n",
       "      <td>1.0</td>\n",
       "      <td>1</td>\n",
       "      <td>35.0</td>\n",
       "      <td>0</td>\n",
       "      <td>53.1000</td>\n",
       "      <td>0</td>\n",
       "      <td>0</td>\n",
       "      <td>1</td>\n",
       "    </tr>\n",
       "    <tr>\n",
       "      <th>5</th>\n",
       "      <td>0.0</td>\n",
       "      <td>3</td>\n",
       "      <td>35.0</td>\n",
       "      <td>0</td>\n",
       "      <td>8.0500</td>\n",
       "      <td>1</td>\n",
       "      <td>0</td>\n",
       "      <td>1</td>\n",
       "    </tr>\n",
       "  </tbody>\n",
       "</table>\n",
       "</div>"
      ],
      "text/plain": [
       "             Survived  Pclass   Age  Parch     Fare  Sex_male  Embarked_Q  \\\n",
       "PassengerId                                                                 \n",
       "1                 0.0       3  22.0      0   7.2500         1           0   \n",
       "2                 1.0       1  38.0      0  71.2833         0           0   \n",
       "3                 1.0       3  26.0      0   7.9250         0           0   \n",
       "4                 1.0       1  35.0      0  53.1000         0           0   \n",
       "5                 0.0       3  35.0      0   8.0500         1           0   \n",
       "\n",
       "             Embarked_S  \n",
       "PassengerId              \n",
       "1                     1  \n",
       "2                     0  \n",
       "3                     1  \n",
       "4                     1  \n",
       "5                     1  "
      ]
     },
     "execution_count": 34,
     "metadata": {},
     "output_type": "execute_result"
    }
   ],
   "source": [
    "train_df.head()"
   ]
  },
  {
   "cell_type": "code",
   "execution_count": 35,
   "id": "23c7a675-d4ee-46d4-8e2f-05b93056badd",
   "metadata": {},
   "outputs": [],
   "source": [
    "train_df.to_csv('train_transform.csv')\n",
    "test_df.to_csv('test_transform.csv')"
   ]
  },
  {
   "cell_type": "markdown",
   "id": "04f8ca3b-9d7a-46b4-8dbf-4fc4753eef71",
   "metadata": {},
   "source": [
    "Можно посчитать средний возраст у выживших и не выживших, посчитать стд, гистограммы для куч, либо боксплоты"
   ]
  },
  {
   "cell_type": "markdown",
   "id": "dea16c54-970b-4964-8849-91cd172d34d7",
   "metadata": {},
   "source": [
    "Делаем список списков, есть оптимальный j, trashhold, ссылка на левую и правую вершины"
   ]
  },
  {
   "cell_type": "code",
   "execution_count": 38,
   "id": "aadad60c-7d1b-42f9-9ab8-a077dee6c077",
   "metadata": {},
   "outputs": [
    {
     "data": {
      "text/plain": [
       "(891, 8)"
      ]
     },
     "execution_count": 38,
     "metadata": {},
     "output_type": "execute_result"
    }
   ],
   "source": [
    "train_df.shape"
   ]
  },
  {
   "cell_type": "code",
   "execution_count": null,
   "id": "1f97566a-7c10-4f6e-ab16-5de9f24aa95a",
   "metadata": {},
   "outputs": [],
   "source": []
  }
 ],
 "metadata": {
  "kernelspec": {
   "display_name": "Python [conda env:base] *",
   "language": "python",
   "name": "conda-base-py"
  },
  "language_info": {
   "codemirror_mode": {
    "name": "ipython",
    "version": 3
   },
   "file_extension": ".py",
   "mimetype": "text/x-python",
   "name": "python",
   "nbconvert_exporter": "python",
   "pygments_lexer": "ipython3",
   "version": "3.12.2"
  }
 },
 "nbformat": 4,
 "nbformat_minor": 5
}
