{
 "cells": [
  {
   "cell_type": "code",
   "execution_count": 801,
   "id": "b0bed06f-449f-4133-92f6-9ea2ac462562",
   "metadata": {},
   "outputs": [],
   "source": [
    "import pandas as pd\n",
    "import numpy as np\n",
    "import matplotlib.pyplot as plt\n",
    "import seaborn as sns\n",
    "from tqdm import tqdm\n",
    "import random\n",
    "from sklearn.preprocessing import StandardScaler\n",
    "from collections import Counter\n",
    "import math #for inf"
   ]
  },
  {
   "cell_type": "code",
   "execution_count": 802,
   "id": "e55e89cd-a9e8-4fe1-adee-fcf8ddd9197a",
   "metadata": {},
   "outputs": [
    {
     "data": {
      "text/html": [
       "<div>\n",
       "<style scoped>\n",
       "    .dataframe tbody tr th:only-of-type {\n",
       "        vertical-align: middle;\n",
       "    }\n",
       "\n",
       "    .dataframe tbody tr th {\n",
       "        vertical-align: top;\n",
       "    }\n",
       "\n",
       "    .dataframe thead th {\n",
       "        text-align: right;\n",
       "    }\n",
       "</style>\n",
       "<table border=\"1\" class=\"dataframe\">\n",
       "  <thead>\n",
       "    <tr style=\"text-align: right;\">\n",
       "      <th></th>\n",
       "      <th>Survived</th>\n",
       "      <th>Pclass</th>\n",
       "      <th>Age</th>\n",
       "      <th>Parch</th>\n",
       "      <th>Fare</th>\n",
       "      <th>Sex_male</th>\n",
       "      <th>Embarked_Q</th>\n",
       "      <th>Embarked_S</th>\n",
       "    </tr>\n",
       "    <tr>\n",
       "      <th>PassengerId</th>\n",
       "      <th></th>\n",
       "      <th></th>\n",
       "      <th></th>\n",
       "      <th></th>\n",
       "      <th></th>\n",
       "      <th></th>\n",
       "      <th></th>\n",
       "      <th></th>\n",
       "    </tr>\n",
       "  </thead>\n",
       "  <tbody>\n",
       "    <tr>\n",
       "      <th>1</th>\n",
       "      <td>0.0</td>\n",
       "      <td>3</td>\n",
       "      <td>22.0</td>\n",
       "      <td>0</td>\n",
       "      <td>7.2500</td>\n",
       "      <td>1</td>\n",
       "      <td>0</td>\n",
       "      <td>1</td>\n",
       "    </tr>\n",
       "    <tr>\n",
       "      <th>2</th>\n",
       "      <td>1.0</td>\n",
       "      <td>1</td>\n",
       "      <td>38.0</td>\n",
       "      <td>0</td>\n",
       "      <td>71.2833</td>\n",
       "      <td>0</td>\n",
       "      <td>0</td>\n",
       "      <td>0</td>\n",
       "    </tr>\n",
       "    <tr>\n",
       "      <th>3</th>\n",
       "      <td>1.0</td>\n",
       "      <td>3</td>\n",
       "      <td>26.0</td>\n",
       "      <td>0</td>\n",
       "      <td>7.9250</td>\n",
       "      <td>0</td>\n",
       "      <td>0</td>\n",
       "      <td>1</td>\n",
       "    </tr>\n",
       "  </tbody>\n",
       "</table>\n",
       "</div>"
      ],
      "text/plain": [
       "             Survived  Pclass   Age  Parch     Fare  Sex_male  Embarked_Q  \\\n",
       "PassengerId                                                                 \n",
       "1                 0.0       3  22.0      0   7.2500         1           0   \n",
       "2                 1.0       1  38.0      0  71.2833         0           0   \n",
       "3                 1.0       3  26.0      0   7.9250         0           0   \n",
       "\n",
       "             Embarked_S  \n",
       "PassengerId              \n",
       "1                     1  \n",
       "2                     0  \n",
       "3                     1  "
      ]
     },
     "execution_count": 802,
     "metadata": {},
     "output_type": "execute_result"
    }
   ],
   "source": [
    "train_df = pd.read_csv('train_transform.csv')\n",
    "train_df.set_index('PassengerId', inplace=True)\n",
    "train_df.head(3)"
   ]
  },
  {
   "cell_type": "markdown",
   "id": "ef3706cf-b6c4-4a10-ae15-f424eed70eb4",
   "metadata": {},
   "source": [
    "# Логистическая регрессия"
   ]
  },
  {
   "cell_type": "markdown",
   "id": "c61f5a9a-7a36-4cd8-a4ac-e6eff2c64bd1",
   "metadata": {},
   "source": [
    "Это наша сигмоидная функция. Возвращает просто ее значение, ничего свыше"
   ]
  },
  {
   "cell_type": "code",
   "execution_count": 805,
   "id": "273b116f-db67-4439-a72a-e0da3540caeb",
   "metadata": {},
   "outputs": [],
   "source": [
    "def sigmoid_function(z):\n",
    "    return 1/(1 + np.exp(-z))"
   ]
  },
  {
   "cell_type": "markdown",
   "id": "e7e7c861-8b22-4074-8c73-8c195b2b65d4",
   "metadata": {},
   "source": [
    "Далее идет функция, кооторая **предсказывает** наши значения. На вход она получает `матрицу Х`, которая содержит **закодированные признаки**, `вектор весов W` и `вектор b` - это веса W0. Затем с помощью `numpy.dot` считается **скалярное произведение** вектора на матрицу и прибавляется значение скаляра b. После эти значения передаются в **сигмоидную функцию**, а затем создается вектор `predictions`, который присваивает значение 1, если A_new больше или равно 0.5, и 0 - если меньше"
   ]
  },
  {
   "cell_type": "code",
   "execution_count": 807,
   "id": "e4a4e4ff-951f-4b6c-805a-8c5efde34967",
   "metadata": {},
   "outputs": [],
   "source": [
    "def predict(X_pred, w, b):\n",
    "    Z_new = np.dot(X_pred, w) + b\n",
    "    A_new = sigmoid_function(Z_new)\n",
    "    predictions = (A_new >= 0.5).astype(int)\n",
    "    return predictions"
   ]
  },
  {
   "cell_type": "markdown",
   "id": "d9022553-e955-487f-854b-756d0691025b",
   "metadata": {},
   "source": [
    "Определяeм **матрицу признаков** и **матрицу ответов**, после чего определим гиперпараметры - `learning_rate` и `количество итераций`, инициализируем **вектор весов** и заполним его **нулями**, а так же скаляр, ему присвоим значение 0 (**скаляр** - это значение свободного члена в векторе весов `W0`, его задаем отдельно, иначе возникают сложности в реализации кода и так же сложность алгоритма **кратно возрастает**)"
   ]
  },
  {
   "cell_type": "code",
   "execution_count": 809,
   "id": "40902391-47d4-4e71-bc75-0396c3a81ac5",
   "metadata": {},
   "outputs": [],
   "source": [
    "X = np.array(train_df[[col for col in train_df.columns if col != 'Survived']])\n",
    "Y = np.array(train_df['Survived'])\n",
    "learning_rate = 0.001\n",
    "N_iterations = 10000\n",
    "\n",
    "W = [0] * X.shape[1]\n",
    "b = 0 #scalyar, w_0\n",
    "n, m = X.shape[1], X.shape[0]"
   ]
  },
  {
   "cell_type": "markdown",
   "id": "6b596845-810e-4ad5-8427-e4866044e405",
   "metadata": {},
   "source": [
    "Запускаем **цикл**, который будет с помощью **градиентного спуска** будет вычислять веса W"
   ]
  },
  {
   "cell_type": "code",
   "execution_count": 811,
   "id": "8962f4e5-c562-4f8c-8263-c90e2aeb69e9",
   "metadata": {},
   "outputs": [
    {
     "name": "stderr",
     "output_type": "stream",
     "text": [
      "100%|██████████████████████████████████| 10000/10000 [00:00<00:00, 24676.14it/s]\n"
     ]
    }
   ],
   "source": [
    "accur = []\n",
    "N = []\n",
    "for i in tqdm(range(N_iterations)):\n",
    "    Z = np.dot(X, W) + b\n",
    "    A = sigmoid_function(Z)\n",
    "    errors = A - Y\n",
    "\n",
    "    grad_w0 = (1 / m) * np.sum(errors) \n",
    "    grad_w = (1 / m) * np.dot(X.T, errors)\n",
    "\n",
    "    W = W - grad_w * learning_rate\n",
    "    b = b - grad_w0 * learning_rate\n",
    "    \n",
    "    now_y = predict(X, W, b)\n",
    "    accur.append(np.mean(now_y == Y))\n",
    "    N.append(i)"
   ]
  },
  {
   "cell_type": "code",
   "execution_count": 812,
   "id": "a55fcedc-3bb9-484f-946e-ee852859f158",
   "metadata": {},
   "outputs": [
    {
     "data": {
      "image/png": "[encoded data removed]",
      "text/plain": [
       "<Figure size 640x480 with 1 Axes>"
      ]
     },
     "metadata": {},
     "output_type": "display_data"
    }
   ],
   "source": [
    "plt.plot(N, accur);\n",
    "plt.xlabel('Номер итерации');\n",
    "plt.ylabel('Точность на i-й итерации');"
   ]
  },
  {
   "cell_type": "markdown",
   "id": "8ecea7c6-cb50-4d73-b481-204e1b8f5d14",
   "metadata": {},
   "source": [
    "Делаем вывод, что чем больше итераций, тем больше наша точность. Так как на Титанике было около 60-65% выживших, а точность модели - выще 71%, значит она обучилась и может предсказывать некоторые значения. Стоит отметить, что для логистической регресси лучше стандартизировать данные, тогда ее точность должна будет стать выше. \n",
    "\n",
    "Следующим шагом стандартизируем данные и проделаем те же операции над данными. (Добавить по 2м признакам, график по линии - scatterplot). Выбрать 2 признак - пол и возраст и по ним уже построить график"
   ]
  },
  {
   "cell_type": "code",
   "execution_count": 814,
   "id": "78f103d9-2ff7-4dc7-8623-80d0419ad676",
   "metadata": {},
   "outputs": [
    {
     "name": "stderr",
     "output_type": "stream",
     "text": [
      "100%|██████████████████████████████████| 20000/20000 [00:00<00:00, 24305.86it/s]\n"
     ]
    }
   ],
   "source": [
    "scaler = StandardScaler()\n",
    "scaler.fit(X)\n",
    "X_scaled = scaler.transform(X)\n",
    "\n",
    "W = [0] * X.shape[1]\n",
    "b = 0 #scalyar, w_0\n",
    "\n",
    "accur = []\n",
    "N = []\n",
    "for i in tqdm(range(20000)):\n",
    "    Z = np.dot(X_scaled, W) + b\n",
    "    A = sigmoid_function(Z)\n",
    "    errors = A - Y\n",
    "\n",
    "    grad_w0 = (1 / m) * np.sum(errors) \n",
    "    grad_w = (1 / m) * np.dot(X_scaled.T, errors)\n",
    "\n",
    "    W = W - grad_w * learning_rate\n",
    "    b = b - grad_w0 * learning_rate\n",
    "    \n",
    "    now_y = predict(X_scaled, W, b)\n",
    "    accur.append(np.mean(now_y == Y))\n",
    "    N.append(i)"
   ]
  },
  {
   "cell_type": "code",
   "execution_count": 815,
   "id": "970909df-6443-4e9f-a152-2d7b6531f8dc",
   "metadata": {},
   "outputs": [
    {
     "data": {
      "image/png": "[encoded data removed]",
      "text/plain": [
       "<Figure size 640x480 with 1 Axes>"
      ]
     },
     "metadata": {},
     "output_type": "display_data"
    }
   ],
   "source": [
    "plt.plot(N, accur);\n",
    "plt.xlabel('Номер итерации');\n",
    "plt.ylabel('Точность на i-й итерации');"
   ]
  },
  {
   "cell_type": "code",
   "execution_count": 816,
   "id": "de63eb89-a290-4477-8041-b2624db6f80d",
   "metadata": {},
   "outputs": [],
   "source": [
    "new_X = np.array(train_df[['Age', 'Sex_male']])\n",
    "new_Y = Y\n",
    "learning_rate = 0.001\n",
    "N_iterations = 15000\n",
    "new_W = [0] * new_X.shape[1]\n",
    "skal_B = 0\n",
    "n, m = new_X.shape[0], new_X.shape[1]\n",
    "\n",
    "for i in range(N_iterations):\n",
    "    Z = np.dot(new_X, new_W) + skal_B\n",
    "    A = sigmoid_function(Z)\n",
    "    errors = A - new_Y\n",
    "\n",
    "    grad_w0 = (1 / n) * np.sum(errors)\n",
    "    grad_w = (1 / n) * np.dot(new_X.T, errors)\n",
    "\n",
    "    new_W = new_W - grad_w * learning_rate\n",
    "    skal_B = skal_B - grad_w0 * learning_rate\n",
    "\n",
    "Y_pred_for_two = predict(new_X, new_W, skal_B)"
   ]
  },
  {
   "cell_type": "code",
   "execution_count": 910,
   "id": "c8baafd4-bf62-4ea1-ab4f-ce10e34df541",
   "metadata": {},
   "outputs": [
    {
     "data": {
      "image/png": "[encoded data removed]",
      "text/plain": [
       "<Figure size 640x480 with 2 Axes>"
      ]
     },
     "metadata": {},
     "output_type": "display_data"
    }
   ],
   "source": [
    "passed = new_Y == 1\n",
    "failed = new_Y == 0\n",
    "\n",
    "passed_pred = Y_pred_for_two == 1\n",
    "failed_pred = Y_pred_for_two == 0\n",
    "\n",
    "fig = plt.figure()\n",
    "axes1 = fig.add_axes([0,0,1,1])\n",
    "axes1.scatter(new_X[passed, 0], new_X[passed, 1], marker='*', color='green', label='Жив');\n",
    "axes1.scatter(new_X[failed, 0], new_X[failed, 1], marker='x', color='orange', label='Умер');\n",
    "axes1.legend();\n",
    "\n",
    "axes2 = fig.add_axes([1.2, 0, 1, 1])\n",
    "axes2.scatter(new_X[passed_pred, 0], new_X[passed_pred, 1], marker='*', color='green', label='Жив');\n",
    "axes2.scatter(new_X[failed_pred, 0], new_X[failed_pred, 1], marker='x', color='orange', label='Умер');\n",
    "axes2.legend();"
   ]
  },
  {
   "cell_type": "markdown",
   "id": "bbe5fb44-9428-4168-9686-ba62fab10c18",
   "metadata": {},
   "source": [
    "*ПРЕДЫДУЩИЙ ГРАФИК НЕ ПОНИМАЮ, КАК ПОСТРОИТЬ ЧТО-ТО, ЧТО БУДЕТ ЧИТАЕМО*"
   ]
  },
  {
   "cell_type": "markdown",
   "id": "a1a4155f-cdf2-4449-bc6e-d25cf2c97681",
   "metadata": {},
   "source": [
    "Было еще **увеличено количество итераций** в 2 раза. Видим, что точность приближается к **80 процентам**, значит, после **стандартизации**, она выросла на **8 п.п.**, это довольно неплохой показатель"
   ]
  },
  {
   "cell_type": "markdown",
   "id": "634c61ef-ee8b-49f0-9208-b4d713f35d80",
   "metadata": {},
   "source": [
    "# Решающее дерево"
   ]
  },
  {
   "cell_type": "markdown",
   "id": "b1eee064-f261-44f2-9de4-ecb4e98a209e",
   "metadata": {},
   "source": [
    "Для начала пишем функцию, которая вычисляет `критерий Джини` - **чистоту ветвления**. У нас **бинарная классификация**, поэтому тут справедлива формула:\n",
    "$$\n",
    "Gini = 1 - p_0^2 - p_1^2, \n",
    "$$\n",
    "где $p_o$ - это **доля** объектов, которые равны 0, а $p_1$ - **доля** объектов, равная 1\n",
    "\n",
    "После вычислений функция возвращает нам **чистоту ветвления**"
   ]
  },
  {
   "cell_type": "code",
   "execution_count": 822,
   "id": "ec041bd2-5e70-4c40-9bf0-c676490a5fcf",
   "metadata": {},
   "outputs": [],
   "source": [
    "def gini_criterion(labels):\n",
    "    if len(labels) == 0:\n",
    "        return float(0)\n",
    "    counts = Counter(labels)\n",
    "    imp = 1\n",
    "    for label in counts:\n",
    "        count_of_label = counts[label]\n",
    "        prob = count_of_label / len(labels)\n",
    "        imp -= prob ** 2\n",
    "    return imp"
   ]
  },
  {
   "cell_type": "markdown",
   "id": "e959ac0d-5788-47cc-be8a-6ac816e87713",
   "metadata": {},
   "source": [
    "Функция `major` вычисляет **самый популярный** класс в ветвлении и возвращает его с помощью функции `most_common`. Так же обрабатывается случай, если у нас длина массива `labels` **равна 0** - просто возвращает значение `None`"
   ]
  },
  {
   "cell_type": "code",
   "execution_count": 824,
   "id": "a9120898-1ff9-4fdd-b271-f8adf1a08e58",
   "metadata": {},
   "outputs": [],
   "source": [
    "def major(labels):\n",
    "    if len(labels) == 0:\n",
    "        return None\n",
    "    counts = Counter(labels)\n",
    "    return counts.most_common(1)[0][0]"
   ]
  },
  {
   "cell_type": "markdown",
   "id": "d26902a9-9ea6-428c-a012-397dce094ca3",
   "metadata": {},
   "source": [
    "Метод `split_data` разделяет **подмножество данных** на **левое и правое**. Принимает **текущий индекс** (индекс признака) - `now_index` и **порог** (меньше какого значения может быть признак) - `threshold`. Далее берет все объекты признака и **накладывает маску** - какие меньше или равны порогового значения - их в **левую маску**, остальные в **правую**. Возвращает подмножества X и У, на которые наложена маска, то есть они разделены на левое и правое подмножества."
   ]
  },
  {
   "cell_type": "code",
   "execution_count": 826,
   "id": "7d66df2a-6f3f-4e15-99a9-e467071efe38",
   "metadata": {},
   "outputs": [],
   "source": [
    "def split_data(X_subset, Y_subset, now_index, threshold):\n",
    "    left_mask = X_subset[:, now_index] <= threshold\n",
    "    right_mask = ~left_mask\n",
    "\n",
    "    X_left, Y_left = X_subset[left_mask], Y_subset[left_mask]\n",
    "    X_right, Y_right = X_subset[right_mask], Y_subset[right_mask]\n",
    "\n",
    "    return (X_left, Y_left), (X_right, Y_right)"
   ]
  },
  {
   "cell_type": "markdown",
   "id": "2f83deb1-3cf4-4c90-8d5b-2f183a2f707e",
   "metadata": {},
   "source": [
    "`find_best_split` перебирает все **доступные признаки** (стобцы) - **внешний цикл**. После чего находит **возможное пороговое значение**, созданием массива из **уникальных значений** столбца. Далее перебирает эти значения - **внутренний цикл**: сначала разделяет на подмножества, потом находит чистоту по Джини и вычисляет **взвешенную чистоту Джини** - показывает, насколько хорошо **данное ветвление** разделит данные. Если взвешенное меньше лучшего - тогда всем параметрам присваиваются **текущие значения**. **Все параметры**: *индекс признака и пороговое значение*, их и возвращает данный метод"
   ]
  },
  {
   "cell_type": "code",
   "execution_count": 828,
   "id": "7976202f-1882-4395-97f7-1a63aa47ee3e",
   "metadata": {},
   "outputs": [],
   "source": [
    "def find_best_split(X_subset, Y_subset):\n",
    "    m_subset, n_f_subset = X_subset.shape\n",
    "    if m_subset <= 1:\n",
    "        return None, None\n",
    "\n",
    "    now_gini = gini_criterion(Y_subset)\n",
    "    best_gini_split = math.inf\n",
    "    best_feature_index = None\n",
    "    best_threshold = None\n",
    "\n",
    "    for i in range(n_f_subset):\n",
    "        thresholds = np.unique(X_subset[:, i])\n",
    "\n",
    "        for threshold in thresholds:\n",
    "            (X_left, Y_left), (X_right, Y_right) = split_data(X_subset, Y_subset, i, threshold)\n",
    "            if len(Y_left) == 0 or len(Y_right) == 0:\n",
    "                continue\n",
    "\n",
    "            gini_left = gini_criterion(Y_left)\n",
    "            gini_right = gini_criterion(Y_right)\n",
    "            weighted_gini_split = (len(Y_left) / m_subset) * gini_left + (len(Y_right) / m_subset) * gini_right\n",
    "\n",
    "            if weighted_gini_split < best_gini_split:\n",
    "                best_gini_split = weighted_gini_split\n",
    "                best_feature_index = i\n",
    "                best_threshold = threshold\n",
    "\n",
    "    if best_gini_split > now_gini:\n",
    "        return None, None\n",
    "\n",
    "    return best_feature_index, best_threshold"
   ]
  },
  {
   "cell_type": "markdown",
   "id": "3f5539eb-75d7-49cf-bf4d-97bcc5d39ab3",
   "metadata": {},
   "source": [
    "Метод `make_a_tree` строит **дерево** и **рекурсивно** вызывает сам себя. Находятся **текущее** значение признака и трешхолд. В начале проверяются **критерии останова**: макс. глубина, минимальное количество объектов, критерий джини, текущий индекс признака. Затем вызывается метод `split_data`, который **разбивает** данные на **левое и правое** подмножества. Далее рекурсивно вызывается **этот** метод, который строит левое и правое поддеревья. В конце функция возвращает **словарь** - где и как произошло данное ветвление при данном индексе и трешхолде."
   ]
  },
  {
   "cell_type": "code",
   "execution_count": 830,
   "id": "139dbc55-6c97-405a-93e1-acc1da92becd",
   "metadata": {},
   "outputs": [],
   "source": [
    "def make_a_tree(X_subset, Y_subset, max_depth, min_objects, current_depth):\n",
    "    f_index, threshold = find_best_split(X_subset, Y_subset)\n",
    "    if current_depth >= max_depth:\n",
    "        return {'type' : 'leaf', 'class' : major(Y_subset)}\n",
    "\n",
    "    if len(Y_subset) < min_objects:\n",
    "        return {'type' : 'leaf', 'class' : major(Y_subset)}\n",
    "\n",
    "    if gini_criterion(Y_subset) == 0:\n",
    "        return {'type' : 'leaf', 'class' : major(Y_subset)}\n",
    "\n",
    "    if f_index is None:\n",
    "        return {'type' : 'leaf', 'class' : major(Y_subset)}\n",
    "\n",
    "    (X_left, Y_left), (X_right, Y_right) = split_data(X_subset, Y_subset, f_index, threshold)\n",
    "\n",
    "    left_child = make_a_tree(X_left, Y_left, max_depth, min_objects, current_depth + 1)\n",
    "    right_child = make_a_tree(X_right, Y_right, max_depth, min_objects, current_depth + 1)\n",
    "    return {\n",
    "        'type': 'internal',\n",
    "        'feature_index': f_index,\n",
    "        'threshold': threshold,\n",
    "        'left_child': left_child,\n",
    "        'right_child': right_child\n",
    "    }"
   ]
  },
  {
   "cell_type": "markdown",
   "id": "67449fe5-be36-47f7-815a-1218ee0ec5de",
   "metadata": {},
   "source": [
    "`predict_one` берет **один отдельный элемент** дерева и проводит его по всему дереву, чтобы определить **какой** класс предсказывает дерево. Так же является **рекурсивным методом**"
   ]
  },
  {
   "cell_type": "code",
   "execution_count": 832,
   "id": "14b80b80-f0fb-4187-8f70-0327eafb8dd4",
   "metadata": {},
   "outputs": [],
   "source": [
    "def predict_one(tree_node, sample):\n",
    "    if tree_node['type'] == 'leaf':\n",
    "        return tree_node['class']\n",
    "\n",
    "    f_index = tree_node['feature_index']\n",
    "    threshold = tree_node['threshold']\n",
    "\n",
    "    if sample[f_index] <= threshold:\n",
    "        return predict_one(tree_node['left_child'], sample)\n",
    "    else:\n",
    "        return predict_one(tree_node['right_child'], sample)"
   ]
  },
  {
   "cell_type": "markdown",
   "id": "58fe204b-57a9-40cd-9bf3-2c5c16481a57",
   "metadata": {},
   "source": [
    "`predict` **делает предсказания** по построенному дереву и по начальному набору данных `X`"
   ]
  },
  {
   "cell_type": "code",
   "execution_count": 834,
   "id": "6d41a2cb-ea01-431d-915a-659ed9bd8c56",
   "metadata": {},
   "outputs": [],
   "source": [
    "def predictt(tree, X):\n",
    "    predictions = []\n",
    "    for sample in X:\n",
    "        predictions.append(predict_one(tree, sample))\n",
    "    return np.array(predictions)"
   ]
  },
  {
   "cell_type": "markdown",
   "id": "32a1f250-a152-4a4d-8320-78f77b2b5833",
   "metadata": {},
   "source": [
    "Объявляем **гиперпараметры** нашей модели"
   ]
  },
  {
   "cell_type": "code",
   "execution_count": 836,
   "id": "8ce758e5-dea9-456e-8a6a-29a4022e4f81",
   "metadata": {},
   "outputs": [],
   "source": [
    "m_samples = X.shape[0]\n",
    "n_samples = X.shape[1]\n",
    "max_depth = 15\n",
    "min_objects = 5"
   ]
  },
  {
   "cell_type": "markdown",
   "id": "b2668b57-65dc-415e-858e-a34828afc52d",
   "metadata": {},
   "source": [
    "Затем строим дерево, делаем предсказания и смотрим точность наших предсказаний"
   ]
  },
  {
   "cell_type": "code",
   "execution_count": 838,
   "id": "f143b57a-de02-4376-80eb-32cb0219ad02",
   "metadata": {},
   "outputs": [
    {
     "name": "stdout",
     "output_type": "stream",
     "text": [
      "Точность предсказаний на тренировочной выборке: 93.5%\n"
     ]
    }
   ],
   "source": [
    "our_tree = make_a_tree(X, Y, max_depth, min_objects, 0)\n",
    "\n",
    "Y_pred_train = predictt(our_tree, X)\n",
    "accurancy = np.mean(Y_pred_train == Y)\n",
    "print(f'Точность предсказаний на тренировочной выборке: {np.round(accurancy, 3) * 100}%')"
   ]
  },
  {
   "cell_type": "markdown",
   "id": "4d6feed5-63db-42de-a6e6-2ae9ba653c79",
   "metadata": {},
   "source": [
    "Видим, что точность **существенно возрасла**, по сравнению с методом **логистической регрессии**. Если будем увеличивать глубину дела, то случится **переобучение**, поэтому высокая точность этого метода на тренировочном наборе данныъ - это еще не 100% успеха)"
   ]
  },
  {
   "cell_type": "markdown",
   "id": "232765fa-7e1c-4e05-be1f-915ca9f18604",
   "metadata": {},
   "source": [
    "# Случайный лес"
   ]
  },
  {
   "cell_type": "markdown",
   "id": "dba287c0-5d97-4d3f-a3b9-64f66bc73c57",
   "metadata": {},
   "source": [
    "По сути, это то же самое, что и **решающее дерево**, но при этом мы используем будем использовать **ансамбль** из нескольких решающих деревьев. Всего будем строить **50 деревьев**. Этот метод помогает избежать **переобучения**, но при этом его практически **невозможно** интерпретировать\n",
    "\n",
    "Алгоритм следующий:\n",
    "1) Задаем **гиперпараметры**\n",
    "2) Строим **лес**, используя цикл for. Делаем это выбирая рандомно признаки и объекты **с возвращением**\n",
    "3) Делаем предсказания\n",
    "\n",
    "Делаем адаптируем **функцию разбиения для ансамбля** - добавляем проверку на **максимальное** количество признаков (у нас их 7, дальнейшее изменение функций будет связано именно с **этой проверкой**)"
   ]
  },
  {
   "cell_type": "code",
   "execution_count": 846,
   "id": "3930e8f1-8643-456d-996f-7507cc980c35",
   "metadata": {},
   "outputs": [],
   "source": [
    "def find_best_split_forest(X_subset, Y_subset, max_features):\n",
    "    m_subset, n_f_subset = X_subset.shape\n",
    "    if m_subset <= 1:\n",
    "        return None, None\n",
    "\n",
    "    now_gini = gini_criterion(Y_subset)\n",
    "    best_gini_split = math.inf\n",
    "    best_feature_index = None\n",
    "    best_threshold = None\n",
    "\n",
    "    num_features_to_consider = min(max_features, n_f_subset)\n",
    "    if n_f_subset > 0 and num_features_to_consider > 0:\n",
    "         features_to_try = random.sample(range(n_f_subset), num_features_to_consider)\n",
    "    else:\n",
    "         features_to_try = []\n",
    "\n",
    "    for i in range(n_f_subset):\n",
    "        thresholds = np.unique(X_subset[:, i])\n",
    "\n",
    "        for threshold in thresholds:\n",
    "            (X_left, Y_left), (X_right, Y_right) = split_data(X_subset, Y_subset, i, threshold)\n",
    "            if len(Y_left) == 0 or len(Y_right) == 0:\n",
    "                continue\n",
    "\n",
    "            gini_left = gini_criterion(Y_left)\n",
    "            gini_right = gini_criterion(Y_right)\n",
    "            weighted_gini_split = (len(Y_left) / m_subset) * gini_left + (len(Y_right) / m_subset) * gini_right\n",
    "\n",
    "            if weighted_gini_split < best_gini_split:\n",
    "                best_gini_split = weighted_gini_split\n",
    "                best_feature_index = i\n",
    "                best_threshold = threshold\n",
    "\n",
    "    if best_gini_split > now_gini:\n",
    "        return None, None\n",
    "\n",
    "    return best_feature_index, best_threshold"
   ]
  },
  {
   "cell_type": "markdown",
   "id": "41c27416-e1fc-4e7e-8045-c977ae97f3e8",
   "metadata": {},
   "source": [
    "Теперь поменяем функцию `make_a_tree`, добавим во входные данные **максимальный** размер объектов, чтобы передать его в **функцию разбиения**"
   ]
  },
  {
   "cell_type": "code",
   "execution_count": 848,
   "id": "da7e033f-cc80-4fc4-95d9-be404b076a27",
   "metadata": {},
   "outputs": [],
   "source": [
    "def make_the_tree(X_subset, Y_subset, max_depth, min_objects, max_features, current_depth):\n",
    "    f_index, threshold = find_best_split_forest(X_subset, Y_subset, max_features)\n",
    "    if current_depth >= max_depth:\n",
    "        return {'type' : 'leaf', 'class' : major(Y_subset)}\n",
    "\n",
    "    if len(Y_subset) < min_objects:\n",
    "        return {'type' : 'leaf', 'class' : major(Y_subset)}\n",
    "\n",
    "    if gini_criterion(Y_subset) == 0:\n",
    "        return {'type' : 'leaf', 'class' : major(Y_subset)}\n",
    "\n",
    "    if f_index is None:\n",
    "        return {'type' : 'leaf', 'class' : major(Y_subset)}\n",
    "\n",
    "    (X_left, Y_left), (X_right, Y_right) = split_data(X_subset, Y_subset, f_index, threshold)\n",
    "\n",
    "    left_child = make_the_tree(X_left, Y_left, max_depth, min_objects, max_features, current_depth + 1)\n",
    "    right_child = make_the_tree(X_right, Y_right, max_depth, min_objects, max_features, current_depth + 1)\n",
    "    return {\n",
    "        'type': 'internal',\n",
    "        'feature_index': f_index,\n",
    "        'threshold': threshold,\n",
    "        'left_child': left_child,\n",
    "        'right_child': right_child\n",
    "    }"
   ]
  },
  {
   "cell_type": "markdown",
   "id": "4bbefb85-a384-4bf3-b999-ab583bace963",
   "metadata": {},
   "source": [
    "Функция `make_forest` - строит случайный лес из **50 деревьев**. Идет рандомная выборка объектов и признаков из начального набора данных, и соответственных ответов для них, затем для каждой выборки строится решающее дерево. Переменная `forest` - это список из словарей - решающих деревьев."
   ]
  },
  {
   "cell_type": "code",
   "execution_count": 850,
   "id": "dbdfa6f9-87d7-4f7d-ad16-fa43309998c4",
   "metadata": {},
   "outputs": [],
   "source": [
    "def make_forest(X, Y, n_estimators, max_depth, min_objects, max_features):\n",
    "    forest = []\n",
    "    m_samples = X.shape[0]\n",
    "    for i in range(n_estimators):\n",
    "        bootstrap_ind = np.random.choice(m_samples, size=m_samples, replace=True)\n",
    "        X_sample, Y_sample = X[bootstrap_ind], Y[bootstrap_ind]\n",
    "        \n",
    "        now_tree = make_the_tree(X_sample, Y_sample, max_depth, min_objects, max_features, 0)\n",
    "        forest.append(now_tree)\n",
    "    return forest"
   ]
  },
  {
   "cell_type": "markdown",
   "id": "857a0f67-ecaa-49c2-baa1-cd6b9fbc1e64",
   "metadata": {},
   "source": [
    "Делаются предсказания по **каждому дереву**. Затем создается список **финальных предсказаний** - он получается каунтом едениц и нулей, если по сумме больше едениц - финальный ответ будет `1`, если нулей - `0` "
   ]
  },
  {
   "cell_type": "code",
   "execution_count": 858,
   "id": "94c45f5b-6fa0-49c8-8e46-306ab58c87c1",
   "metadata": {},
   "outputs": [],
   "source": [
    "def predict_forest(forest, X):\n",
    "    m_samples = X.shape[0]\n",
    "    n_estimators = len(forest)\n",
    "\n",
    "    all_predictions = np.zeros((m_samples, n_estimators), dtype=int)\n",
    "\n",
    "    for i, tree in enumerate(forest):\n",
    "        pred_for_tree = predictt(tree, X)\n",
    "        all_predictions[:, i] = pred_for_tree\n",
    "\n",
    "    final_predictions = np.zeros(m_samples, dtype=int)\n",
    "\n",
    "    for j in range(m_samples):\n",
    "        pred_for_one = all_predictions[j, :]\n",
    "\n",
    "        count_ones = np.sum(pred_for_one)\n",
    "        count_zeros = n_estimators - count_ones\n",
    "\n",
    "        if count_ones > count_zeros:\n",
    "            final_predictions[j] = 1\n",
    "        else:\n",
    "            final_predictions[j] = 0\n",
    "            \n",
    "    return final_predictions"
   ]
  },
  {
   "cell_type": "markdown",
   "id": "881c963b-cfe2-4b09-b094-bd0d74be858b",
   "metadata": {},
   "source": [
    "Задаем **гиперпараметры** нашей модели"
   ]
  },
  {
   "cell_type": "code",
   "execution_count": 861,
   "id": "fe456e29-2064-4ed5-968c-afe8a359a13e",
   "metadata": {},
   "outputs": [],
   "source": [
    "m_samples = X.shape[0]\n",
    "n_features = X.shape[1]\n",
    "n_estimators = 50\n",
    "max_features = 4\n",
    "max_depth = 15\n",
    "min_objects = 5\n",
    "random_forest = make_forest(X, Y, n_estimators, max_depth, min_objects, max_features)"
   ]
  },
  {
   "cell_type": "markdown",
   "id": "31d3ec7e-9a79-4294-a113-7ae5d92f1f09",
   "metadata": {},
   "source": [
    "Делаем **предсказания** и после считаем **точность**"
   ]
  },
  {
   "cell_type": "code",
   "execution_count": 864,
   "id": "1722e7d9-a637-4360-97e5-c7e04eeb09a5",
   "metadata": {},
   "outputs": [
    {
     "name": "stdout",
     "output_type": "stream",
     "text": [
      "Точность алгоритма \"случайный лес\" = 0.9595959595959596\n"
     ]
    }
   ],
   "source": [
    "Y_pred_forest = predict_forest(random_forest, X)\n",
    "accurancy = np.mean(Y_pred_forest == Y)\n",
    "print(f'Точность алгоритма \"случайный лес\" = {accurancy}')"
   ]
  },
  {
   "cell_type": "markdown",
   "id": "c9c4a56f-ba5e-40a3-9dd7-458087d3a0d4",
   "metadata": {},
   "source": [
    "Видим, что **точность** довольно высокая, при этом с **бОльшей** долей вероятности нам получится избежать **переобучения модели, так как строится не одно решающее дерево, а несколько сразу"
   ]
  }
 ],
 "metadata": {
  "kernelspec": {
   "display_name": "Python [conda env:base] *",
   "language": "python",
   "name": "conda-base-py"
  },
  "language_info": {
   "codemirror_mode": {
    "name": "ipython",
    "version": 3
   },
   "file_extension": ".py",
   "mimetype": "text/x-python",
   "name": "python",
   "nbconvert_exporter": "python",
   "pygments_lexer": "ipython3",
   "version": "3.12.2"
  }
 },
 "nbformat": 4,
 "nbformat_minor": 5
}
